{
 "cells": [
  {
   "cell_type": "code",
   "execution_count": 3,
   "metadata": {},
   "outputs": [],
   "source": [
    "import pandas as pd\n",
    "from sklearn.model_selection import train_test_split\n",
    "from sklearn import svm\n",
    "from sklearn.pipeline import Pipeline\n",
    "from sklearn.metrics import classification_report\n",
    "from sklearn.feature_extraction.text import TfidfVectorizer\n",
    "from sklearn.naive_bayes import MultinomialNB\n",
    "from sklearn.ensemble import RandomForestClassifier\n",
    "from scipy.stats import skew\n",
    "import matplotlib.pyplot as plt"
   ]
  },
  {
   "cell_type": "code",
   "execution_count": 4,
   "metadata": {},
   "outputs": [
    {
     "name": "stdout",
     "output_type": "stream",
     "text": [
      "(6988, 3)\n"
     ]
    },
    {
     "data": {
      "text/html": [
       "<div>\n",
       "<style scoped>\n",
       "    .dataframe tbody tr th:only-of-type {\n",
       "        vertical-align: middle;\n",
       "    }\n",
       "\n",
       "    .dataframe tbody tr th {\n",
       "        vertical-align: top;\n",
       "    }\n",
       "\n",
       "    .dataframe thead th {\n",
       "        text-align: right;\n",
       "    }\n",
       "</style>\n",
       "<table border=\"1\" class=\"dataframe\">\n",
       "  <thead>\n",
       "    <tr style=\"text-align: right;\">\n",
       "      <th></th>\n",
       "      <th>text</th>\n",
       "      <th>category</th>\n",
       "      <th>stance</th>\n",
       "    </tr>\n",
       "  </thead>\n",
       "  <tbody>\n",
       "    <tr>\n",
       "      <th>0</th>\n",
       "      <td>بيل غيتس تلقى لقاح كوفيد19 من غير تصوير إبر و ...</td>\n",
       "      <td>celebrity</td>\n",
       "      <td>1</td>\n",
       "    </tr>\n",
       "    <tr>\n",
       "      <th>1</th>\n",
       "      <td>وزير صح حد يوم تحديد هل بمؤتمروا صحفي كان ما ع...</td>\n",
       "      <td>info_news</td>\n",
       "      <td>1</td>\n",
       "    </tr>\n",
       "    <tr>\n",
       "      <th>2</th>\n",
       "      <td>قول رح يكونو أد مسؤولي ب لبنان ما وصل لقاح ؟ أ...</td>\n",
       "      <td>info_news</td>\n",
       "      <td>1</td>\n",
       "    </tr>\n",
       "    <tr>\n",
       "      <th>3</th>\n",
       "      <td>تركيا . . وزير صح فخر دين قوجة تلقى أول جرع من...</td>\n",
       "      <td>celebrity</td>\n",
       "      <td>1</td>\n",
       "    </tr>\n",
       "    <tr>\n",
       "      <th>4</th>\n",
       "      <td>وئام وهاب شتم دول خليجي في كل طل إعلامي تسافه ...</td>\n",
       "      <td>personal</td>\n",
       "      <td>0</td>\n",
       "    </tr>\n",
       "  </tbody>\n",
       "</table>\n",
       "</div>"
      ],
      "text/plain": [
       "                                                text   category  stance\n",
       "0  بيل غيتس تلقى لقاح كوفيد19 من غير تصوير إبر و ...  celebrity       1\n",
       "1  وزير صح حد يوم تحديد هل بمؤتمروا صحفي كان ما ع...  info_news       1\n",
       "2  قول رح يكونو أد مسؤولي ب لبنان ما وصل لقاح ؟ أ...  info_news       1\n",
       "3  تركيا . . وزير صح فخر دين قوجة تلقى أول جرع من...  celebrity       1\n",
       "4  وئام وهاب شتم دول خليجي في كل طل إعلامي تسافه ...   personal       0"
      ]
     },
     "execution_count": 4,
     "metadata": {},
     "output_type": "execute_result"
    }
   ],
   "source": [
    "df = pd.read_csv('../Dataset/cleaned_train.csv')\n",
    "print(df.shape)\n",
    "df.head()"
   ]
  },
  {
   "cell_type": "code",
   "execution_count": 5,
   "metadata": {},
   "outputs": [
    {
     "name": "stdout",
     "output_type": "stream",
     "text": [
      " 1    5538\n",
      " 0    1012\n",
      "-1     438\n",
      "Name: stance, dtype: int64\n",
      "info_news       3616\n",
      "personal        1025\n",
      "celebrity        975\n",
      "plan             606\n",
      "unrelated        323\n",
      "others           167\n",
      "requests         112\n",
      "rumors            79\n",
      "advice            67\n",
      "restrictions      18\n",
      "Name: category, dtype: int64\n"
     ]
    }
   ],
   "source": [
    "print(df['stance'].value_counts())\n",
    "print(df['category'].value_counts())\n"
   ]
  },
  {
   "cell_type": "code",
   "execution_count": 7,
   "metadata": {},
   "outputs": [
    {
     "name": "stdout",
     "output_type": "stream",
     "text": [
      "(4891,)\n",
      "(2097,)\n",
      " 1    3876\n",
      " 0     708\n",
      "-1     307\n",
      "Name: stance, dtype: int64\n",
      " 1    1662\n",
      " 0     304\n",
      "-1     131\n",
      "Name: stance, dtype: int64\n"
     ]
    }
   ],
   "source": [
    "x_train, x_test, y_train, y_test = train_test_split(df['text'], df['stance'], test_size=0.3, random_state=42,stratify=df['stance'])\n",
    "print(x_train.shape)\n",
    "print(x_test.shape)\n",
    "print(y_train.value_counts())\n",
    "print(y_test.value_counts())"
   ]
  },
  {
   "cell_type": "code",
   "execution_count": 8,
   "metadata": {},
   "outputs": [
    {
     "name": "stdout",
     "output_type": "stream",
     "text": [
      "0.6737894009125932\n"
     ]
    },
    {
     "data": {
      "image/png": "[encoded data removed]",
      "text/plain": [
       "<Figure size 720x360 with 1 Axes>"
      ]
     },
     "metadata": {
      "needs_background": "light"
     },
     "output_type": "display_data"
    }
   ],
   "source": [
    "print(skew(y_train.value_counts()))\n",
    "# plot the skewness\n",
    "plt.figure(figsize=(10,5))\n",
    "plt.bar(y_train.value_counts().index,y_train.value_counts().values)\n",
    "plt.show()\n",
    "\n",
    "# import seaborn as sns\n",
    "# sns.distplot(y_train.value_counts())\n",
    "# plt.show()"
   ]
  },
  {
   "cell_type": "code",
   "execution_count": 9,
   "metadata": {},
   "outputs": [
    {
     "name": "stdout",
     "output_type": "stream",
     "text": [
      "              precision    recall  f1-score   support\n",
      "\n",
      "          -1       0.66      0.19      0.30       131\n",
      "           0       0.53      0.15      0.24       304\n",
      "           1       0.82      0.97      0.89      1662\n",
      "\n",
      "    accuracy                           0.81      2097\n",
      "   macro avg       0.67      0.44      0.47      2097\n",
      "weighted avg       0.77      0.81      0.76      2097\n",
      "\n"
     ]
    }
   ],
   "source": [
    "clf = Pipeline([\n",
    "    ('vectorizer_tfidf', TfidfVectorizer(ngram_range=(1,2), max_df=0.6)),\n",
    "    ('SVM', svm.SVC(kernel='linear', C=1.0, probability=True))\n",
    "])\n",
    "\n",
    "clf.fit(x_train, y_train)\n",
    "y_pred = clf.predict(x_test)\n",
    "print(classification_report(y_test, y_pred))"
   ]
  },
  {
   "cell_type": "code",
   "execution_count": 17,
   "metadata": {},
   "outputs": [
    {
     "name": "stdout",
     "output_type": "stream",
     "text": [
      "              precision    recall  f1-score   support\n",
      "\n",
      "          -1       1.00      0.01      0.02       131\n",
      "           0       0.69      0.07      0.13       304\n",
      "           1       0.80      1.00      0.89      1662\n",
      "\n",
      "    accuracy                           0.80      2097\n",
      "   macro avg       0.83      0.36      0.34      2097\n",
      "weighted avg       0.80      0.80      0.72      2097\n",
      "\n"
     ]
    }
   ],
   "source": [
    "clf = Pipeline([\n",
    "    ('vectorizer_tfidf', TfidfVectorizer(ngram_range=(1,1), max_df=0.5, min_df=2)),\n",
    "    ('multinomial_NB', MultinomialNB())\n",
    "])\n",
    "\n",
    "clf.fit(x_train, y_train)\n",
    "y_pred = clf.predict(x_test)\n",
    "print(classification_report(y_test, y_pred))"
   ]
  },
  {
   "cell_type": "code",
   "execution_count": 12,
   "metadata": {},
   "outputs": [
    {
     "name": "stdout",
     "output_type": "stream",
     "text": [
      "              precision    recall  f1-score   support\n",
      "\n",
      "          -1       0.66      0.16      0.26       131\n",
      "           0       0.52      0.12      0.19       304\n",
      "           1       0.82      0.98      0.89      1662\n",
      "\n",
      "    accuracy                           0.80      2097\n",
      "   macro avg       0.66      0.42      0.45      2097\n",
      "weighted avg       0.76      0.80      0.75      2097\n",
      "\n"
     ]
    }
   ],
   "source": [
    "clf = Pipeline([\n",
    "    ('vectorizer_tfidf', TfidfVectorizer(ngram_range=(1,1), max_df=0.5)),\n",
    "    ('ٌRandom Forest', RandomForestClassifier(n_estimators=100, random_state=2002))\n",
    "])\n",
    "\n",
    "clf.fit(x_train, y_train)\n",
    "y_pred = clf.predict(x_test)\n",
    "print(classification_report(y_test, y_pred))"
   ]
  }
 ],
 "metadata": {
  "kernelspec": {
   "display_name": "Python 3",
   "language": "python",
   "name": "python3"
  },
  "language_info": {
   "codemirror_mode": {
    "name": "ipython",
    "version": 3
   },
   "file_extension": ".py",
   "mimetype": "text/x-python",
   "name": "python",
   "nbconvert_exporter": "python",
   "pygments_lexer": "ipython3",
   "version": "3.9.0"
  },
  "orig_nbformat": 4,
  "vscode": {
   "interpreter": {
    "hash": "82ed002fa2d4956f5c6aec99bcefe0f73a9f79882f3c9e2319b14958a5896ac5"
   }
  }
 },
 "nbformat": 4,
 "nbformat_minor": 2
}
