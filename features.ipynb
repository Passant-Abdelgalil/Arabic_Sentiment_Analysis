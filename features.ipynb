{
 "cells": [
  {
   "cell_type": "code",
   "execution_count": 32,
   "metadata": {},
   "outputs": [],
   "source": [
    "import pandas as pd\n",
    "import numpy as np\n",
    "from sklearn.feature_extraction.text import CountVectorizer\n",
    "from sklearn.feature_extraction.text import TfidfVectorizer"
   ]
  },
  {
   "cell_type": "code",
   "execution_count": 41,
   "metadata": {},
   "outputs": [],
   "source": [
    "# read cleaned data\n",
    "df = pd.read_csv('Dataset/cleaned_train.csv')\n",
    "# keep only the first col of the dataframe(which is the tweets).\n",
    "df = df.iloc[:, 0]"
   ]
  },
  {
   "cell_type": "code",
   "execution_count": 45,
   "metadata": {},
   "outputs": [],
   "source": [
    "train = df[:4988]\n",
    "dev = df[4988:]"
   ]
  },
  {
   "attachments": {},
   "cell_type": "markdown",
   "metadata": {},
   "source": [
    "### BOW"
   ]
  },
  {
   "cell_type": "code",
   "execution_count": 25,
   "metadata": {},
   "outputs": [],
   "source": [
    "def BOW(tweets):\n",
    "    vectorizer = CountVectorizer(token_pattern=r'\\S+')\n",
    "    vectorizer.fit(tweets)\n",
    "    return vectorizer"
   ]
  },
  {
   "cell_type": "code",
   "execution_count": 46,
   "metadata": {},
   "outputs": [
    {
     "name": "stdout",
     "output_type": "stream",
     "text": [
      "11363\n",
      "(4988, 11363)\n",
      "6599\n",
      "(2000, 11363)\n"
     ]
    }
   ],
   "source": [
    "bow_train = BOW(list(train))\n",
    "bow_dev = BOW(list(dev))\n",
    "BOW_feature_train = bow_train.transform(list(train))\n",
    "BOW_feature_dev = bow_train.transform(list(dev))\n",
    "\n",
    "print(len(bow_train.vocabulary_))\n",
    "print(BOW_feature_train.shape)\n",
    "print(len(bow_dev.vocabulary_))\n",
    "print(BOW_feature_dev.shape)"
   ]
  },
  {
   "attachments": {},
   "cell_type": "markdown",
   "metadata": {},
   "source": [
    "### Tf-idf"
   ]
  },
  {
   "cell_type": "code",
   "execution_count": 29,
   "metadata": {},
   "outputs": [],
   "source": [
    "def Tfidf(tweets):\n",
    "    vectorizer = TfidfVectorizer(token_pattern=r'\\S+')\n",
    "    vectorizer.fit(tweets)\n",
    "    return vectorizer"
   ]
  },
  {
   "cell_type": "code",
   "execution_count": 33,
   "metadata": {},
   "outputs": [],
   "source": [
    "tfidf_train = Tfidf(list(train))\n",
    "Tfidf_feature_train = tfidf_train.transform(list(train))\n",
    "tfidf_dev = Tfidf(list(dev))\n",
    "dev = tfidf_dev.transform(list(dev))"
   ]
  }
 ],
 "metadata": {
  "kernelspec": {
   "display_name": "base",
   "language": "python",
   "name": "python3"
  },
  "language_info": {
   "codemirror_mode": {
    "name": "ipython",
    "version": 3
   },
   "file_extension": ".py",
   "mimetype": "text/x-python",
   "name": "python",
   "nbconvert_exporter": "python",
   "pygments_lexer": "ipython3",
   "version": "3.8.8"
  },
  "orig_nbformat": 4,
  "vscode": {
   "interpreter": {
    "hash": "ad2bdc8ecc057115af97d19610ffacc2b4e99fae6737bb82f5d7fb13d2f2c186"
   }
  }
 },
 "nbformat": 4,
 "nbformat_minor": 2
}
