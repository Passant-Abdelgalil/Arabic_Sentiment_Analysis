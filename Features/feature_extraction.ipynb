{
 "cells": [
  {
   "cell_type": "code",
   "execution_count": 14,
   "metadata": {},
   "outputs": [],
   "source": [
    "from sklearn.feature_extraction.text import TfidfVectorizer\n",
    "import pandas as pd\n",
    "import numpy as np\n",
    "import matplotlib.pyplot as plt\n",
    "from sklearn.decomposition import PCA\n",
    "import pickle"
   ]
  },
  {
   "cell_type": "code",
   "execution_count": 2,
   "metadata": {},
   "outputs": [
    {
     "data": {
      "text/html": [
       "<div>\n",
       "<style scoped>\n",
       "    .dataframe tbody tr th:only-of-type {\n",
       "        vertical-align: middle;\n",
       "    }\n",
       "\n",
       "    .dataframe tbody tr th {\n",
       "        vertical-align: top;\n",
       "    }\n",
       "\n",
       "    .dataframe thead th {\n",
       "        text-align: right;\n",
       "    }\n",
       "</style>\n",
       "<table border=\"1\" class=\"dataframe\">\n",
       "  <thead>\n",
       "    <tr style=\"text-align: right;\">\n",
       "      <th></th>\n",
       "      <th>text</th>\n",
       "      <th>category</th>\n",
       "      <th>stance</th>\n",
       "    </tr>\n",
       "  </thead>\n",
       "  <tbody>\n",
       "    <tr>\n",
       "      <th>0</th>\n",
       "      <td>بيل غيتس تلقى لقاح كوفيد19 من غير تصوير إبر و ...</td>\n",
       "      <td>celebrity</td>\n",
       "      <td>1</td>\n",
       "    </tr>\n",
       "    <tr>\n",
       "      <th>1</th>\n",
       "      <td>وزير صح حد يوم تحديد هل بمؤتمروا صحفي كان ما ع...</td>\n",
       "      <td>info_news</td>\n",
       "      <td>1</td>\n",
       "    </tr>\n",
       "    <tr>\n",
       "      <th>2</th>\n",
       "      <td>قول رح يكونو أد مسؤولي ب لبنان ما وصل لقاح ؟ أ...</td>\n",
       "      <td>info_news</td>\n",
       "      <td>1</td>\n",
       "    </tr>\n",
       "    <tr>\n",
       "      <th>3</th>\n",
       "      <td>تركيا . . وزير صح فخر دين قوجة تلقى أول جرع من...</td>\n",
       "      <td>celebrity</td>\n",
       "      <td>1</td>\n",
       "    </tr>\n",
       "    <tr>\n",
       "      <th>4</th>\n",
       "      <td>وئام وهاب شتم دول خليجي في كل طل إعلامي تسافه ...</td>\n",
       "      <td>personal</td>\n",
       "      <td>0</td>\n",
       "    </tr>\n",
       "  </tbody>\n",
       "</table>\n",
       "</div>"
      ],
      "text/plain": [
       "                                                text   category  stance\n",
       "0  بيل غيتس تلقى لقاح كوفيد19 من غير تصوير إبر و ...  celebrity       1\n",
       "1  وزير صح حد يوم تحديد هل بمؤتمروا صحفي كان ما ع...  info_news       1\n",
       "2  قول رح يكونو أد مسؤولي ب لبنان ما وصل لقاح ؟ أ...  info_news       1\n",
       "3  تركيا . . وزير صح فخر دين قوجة تلقى أول جرع من...  celebrity       1\n",
       "4  وئام وهاب شتم دول خليجي في كل طل إعلامي تسافه ...   personal       0"
      ]
     },
     "execution_count": 2,
     "metadata": {},
     "output_type": "execute_result"
    }
   ],
   "source": [
    "# read in the data from the csv file\n",
    "corpus = pd.read_csv('../Dataset/cleaned_train.csv', usecols=['text', 'category', 'stance'])\n",
    "\n",
    "# display first 5 rows of the data\n",
    "corpus.head()"
   ]
  },
  {
   "cell_type": "code",
   "execution_count": 3,
   "metadata": {},
   "outputs": [
    {
     "data": {
      "image/png": "[encoded data removed]",
      "text/plain": [
       "<Figure size 432x288 with 1 Axes>"
      ]
     },
     "metadata": {
      "needs_background": "light"
     },
     "output_type": "display_data"
    },
    {
     "data": {
      "image/png": "[encoded data removed]",
      "text/plain": [
       "<Figure size 432x288 with 1 Axes>"
      ]
     },
     "metadata": {
      "needs_background": "light"
     },
     "output_type": "display_data"
    }
   ],
   "source": [
    "# display the number of classes in category column in a graph\n",
    "corpus['category'].value_counts().plot(kind='bar')\n",
    "plt.show()\n",
    "\n",
    "# display the number of classes in stance column in a graph\n",
    "corpus['stance'].value_counts().plot(kind='bar')\n",
    "plt.show()"
   ]
  },
  {
   "cell_type": "code",
   "execution_count": 60,
   "metadata": {},
   "outputs": [
    {
     "name": "stdout",
     "output_type": "stream",
     "text": [
      "بيل غيتس تلقى لقاح كوفيد19 من غير تصوير إبر و لا السيرنجة و لا دواء و لابس بولو صيفي في عز شتاء و قول أن إحدى مزايا عمر ال 65 عام هي أن مؤهل حصول على لقاح . . . عنى ما كان حتاج لقاح لو كان عمر أصغر من 65\n",
      "بيل\n"
     ]
    }
   ],
   "source": [
    "# corpus_text = corpus['text'].values\n",
    "# print(corpus_text[0])\n",
    "\n",
    "# sentence_1 = corpus_text[0].split(' ')\n",
    "# print(sentence_1[0])\n",
    "\n",
    "# for i,tweet in enumerate(corpus_text):\n",
    "    # tweet = tweet.split(' ')\n",
    "#     tweet = tweet[::-1]\n",
    "    # tweet = ' '.join(tweet)\n",
    "#     corpus_text[i] = tweet\n",
    "# print(corpus_text[0]) \n",
    "\n",
    "#✔ No need to reverse the sentences\n"
   ]
  },
  {
   "cell_type": "code",
   "execution_count": 10,
   "metadata": {},
   "outputs": [],
   "source": [
    "corpus_text_train = corpus['text'].values[0:4988]\n",
    "\n",
    "# drop words that appear in more than 50% of the documents\n",
    "vectorizer = TfidfVectorizer(ngram_range=(2,2),use_idf= True, smooth_idf= True,max_df=0.5)\n",
    "X = vectorizer.fit_transform(corpus_text_train)\n",
    "\n",
    "unique_words = vectorizer.get_feature_names_out()"
   ]
  },
  {
   "cell_type": "code",
   "execution_count": 74,
   "metadata": {},
   "outputs": [
    {
     "name": "stdout",
     "output_type": "stream",
     "text": [
      "['1962عندما' '1976']\n",
      "1962عندما\n"
     ]
    }
   ],
   "source": [
    "# print(unique_words.shape)\n",
    "# sth weird happens when i print words 95,96 and word 95 alone\n",
    "print(str(unique_words[95:97]))\n",
    "print(str(unique_words[95]))"
   ]
  },
  {
   "cell_type": "code",
   "execution_count": 9,
   "metadata": {},
   "outputs": [
    {
     "name": "stdout",
     "output_type": "stream",
     "text": [
      "2001\n"
     ]
    }
   ],
   "source": [
    "# find a token in list of sentences\n",
    "def find_token(token, sentences):\n",
    "    for i, sentence in enumerate(sentences):\n",
    "        if token in sentence:\n",
    "            return i\n",
    "    return -1\n",
    "\n",
    "idx = find_token(unique_words[6], corpus_text_train)\n",
    "print(idx)\n",
    "corpus_text_train[idx]"
   ]
  },
  {
   "cell_type": "code",
   "execution_count": 11,
   "metadata": {},
   "outputs": [
    {
     "name": "stdout",
     "output_type": "stream",
     "text": [
      "(4988, 59678)\n",
      "(4988, 2)\n"
     ]
    }
   ],
   "source": [
    "print(X.shape)\n",
    "\n",
    "# use pca on X\n",
    "pca = PCA(n_components=2)\n",
    "X_pca = pca.fit_transform(X.toarray())\n",
    "\n",
    "print(X_pca.shape)\n"
   ]
  },
  {
   "cell_type": "code",
   "execution_count": 12,
   "metadata": {},
   "outputs": [
    {
     "data": {
      "text/plain": [
       "<matplotlib.collections.PathCollection at 0x1cf6e591f40>"
      ]
     },
     "execution_count": 12,
     "metadata": {},
     "output_type": "execute_result"
    },
    {
     "data": {
      "image/png": "[encoded data removed]",
      "text/plain": [
       "<Figure size 432x288 with 1 Axes>"
      ]
     },
     "metadata": {
      "needs_background": "light"
     },
     "output_type": "display_data"
    }
   ],
   "source": [
    "# scatter plot X_pca\n",
    "plt.scatter(X_pca[:,0], X_pca[:,1])"
   ]
  },
  {
   "cell_type": "code",
   "execution_count": 15,
   "metadata": {},
   "outputs": [],
   "source": [
    "# dump X_pca into a pickle file\n",
    "with open('tfidf_pca_4988.pickle', 'wb') as f:\n",
    "    pickle.dump(X_pca, f)"
   ]
  }
 ],
 "metadata": {
  "kernelspec": {
   "display_name": "Python 3",
   "language": "python",
   "name": "python3"
  },
  "language_info": {
   "codemirror_mode": {
    "name": "ipython",
    "version": 3
   },
   "file_extension": ".py",
   "mimetype": "text/x-python",
   "name": "python",
   "nbconvert_exporter": "python",
   "pygments_lexer": "ipython3",
   "version": "3.9.0"
  },
  "orig_nbformat": 4,
  "vscode": {
   "interpreter": {
    "hash": "82ed002fa2d4956f5c6aec99bcefe0f73a9f79882f3c9e2319b14958a5896ac5"
   }
  }
 },
 "nbformat": 4,
 "nbformat_minor": 2
}
