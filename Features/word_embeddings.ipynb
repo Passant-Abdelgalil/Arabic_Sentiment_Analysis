{
  "nbformat": 4,
  "nbformat_minor": 0,
  "metadata": {
    "colab": {
      "provenance": []
    },
    "kernelspec": {
      "name": "python3",
      "display_name": "Python 3"
    },
    "language_info": {
      "name": "python"
    }
  },
  "cells": [
    {
      "cell_type": "code",
      "execution_count": null,
      "metadata": {
        "colab": {
          "base_uri": "https://localhost:8080/"
        },
        "id": "eK2p8A6RlCjC",
        "outputId": "66708e80-5781-4029-b3b7-36d59d0338c9"
      },
      "outputs": [
        {
          "output_type": "stream",
          "name": "stderr",
          "text": [
            "Warning : `load_model` does not return WordVectorModel or SupervisedModel any more, but a `FastText` object which is very similar.\n"
          ]
        }
      ],
      "source": [
        "# !pip install fasttext\n",
        "import fasttext.util\n",
        "fasttext.util.download_model('ar', if_exists='ignore')  \n",
        "ft = fasttext.load_model('cc.ar.300.bin')"
      ]
    },
    {
      "cell_type": "code",
      "source": [
        "print(ft.get_dimension())\n",
        "fasttext.util.reduce_model(ft, 100)\n",
        "print(ft.get_dimension())\n"
      ],
      "metadata": {
        "colab": {
          "base_uri": "https://localhost:8080/",
          "height": 200
        },
        "id": "0AzpB7X20nQv",
        "outputId": "6659e656-de3e-4ce4-8a06-5e6db1fee7d9"
      },
      "execution_count": null,
      "outputs": [
        {
          "output_type": "error",
          "ename": "NameError",
          "evalue": "ignored",
          "traceback": [
            "\u001b[0;31m---------------------------------------------------------------------------\u001b[0m",
            "\u001b[0;31mNameError\u001b[0m                                 Traceback (most recent call last)",
            "\u001b[0;32m<ipython-input-1-f714ee9ba5a4>\u001b[0m in \u001b[0;36m<module>\u001b[0;34m\u001b[0m\n\u001b[0;32m----> 1\u001b[0;31m \u001b[0mprint\u001b[0m\u001b[0;34m(\u001b[0m\u001b[0mft\u001b[0m\u001b[0;34m.\u001b[0m\u001b[0mget_dimension\u001b[0m\u001b[0;34m(\u001b[0m\u001b[0;34m)\u001b[0m\u001b[0;34m)\u001b[0m\u001b[0;34m\u001b[0m\u001b[0;34m\u001b[0m\u001b[0m\n\u001b[0m\u001b[1;32m      2\u001b[0m \u001b[0mfasttext\u001b[0m\u001b[0;34m.\u001b[0m\u001b[0mutil\u001b[0m\u001b[0;34m.\u001b[0m\u001b[0mreduce_model\u001b[0m\u001b[0;34m(\u001b[0m\u001b[0mft\u001b[0m\u001b[0;34m,\u001b[0m \u001b[0;36m100\u001b[0m\u001b[0;34m)\u001b[0m\u001b[0;34m\u001b[0m\u001b[0;34m\u001b[0m\u001b[0m\n\u001b[1;32m      3\u001b[0m \u001b[0mprint\u001b[0m\u001b[0;34m(\u001b[0m\u001b[0mft\u001b[0m\u001b[0;34m.\u001b[0m\u001b[0mget_dimension\u001b[0m\u001b[0;34m(\u001b[0m\u001b[0;34m)\u001b[0m\u001b[0;34m)\u001b[0m\u001b[0;34m\u001b[0m\u001b[0;34m\u001b[0m\u001b[0m\n",
            "\u001b[0;31mNameError\u001b[0m: name 'ft' is not defined"
          ]
        }
      ]
    },
    {
      "cell_type": "code",
      "source": [
        "print(ft.get_word_vector('الشوق شوق')) \n",
        "print(ft.get_word_vector('الشوق شوق').shape)"
      ],
      "metadata": {
        "colab": {
          "base_uri": "https://localhost:8080/"
        },
        "id": "kihZk8Y-4tgH",
        "outputId": "fb30bac3-67ee-4154-bc2e-8b26491f210a"
      },
      "execution_count": null,
      "outputs": [
        {
          "output_type": "stream",
          "name": "stdout",
          "text": [
            "[ 7.11780880e-03  2.37379223e-03  1.64420679e-02  3.35068516e-02\n",
            "  3.73450518e-02 -1.21406186e-02  1.35379843e-02  8.11151266e-02\n",
            "  1.36960123e-03 -3.42397466e-02  1.31407660e-02 -2.70486586e-02\n",
            " -3.39174271e-03 -8.30845535e-03  1.66543126e-02  1.34029593e-02\n",
            "  2.47984342e-02  1.14722185e-04 -1.35674113e-02  4.32788841e-02\n",
            " -5.46407001e-03  5.09978225e-03  8.58685281e-03 -2.83538294e-03\n",
            " -1.14843724e-02  6.17981656e-03 -3.38449888e-03  1.21432832e-02\n",
            "  1.19820451e-02 -1.49548398e-02 -1.49723897e-02  9.39512253e-03\n",
            "  6.13083355e-02 -2.37684492e-02 -6.22232724e-03 -1.13993492e-02\n",
            " -4.30304650e-03 -1.47225044e-03 -4.64457553e-03  4.58231894e-03\n",
            " -1.94702502e-02 -9.10794915e-05  6.67185988e-03 -6.44180877e-03\n",
            "  4.20285612e-02  1.30281914e-02  1.07835103e-02  2.00059079e-02\n",
            " -1.27264801e-02 -8.70739017e-03 -1.43508622e-02  7.18011172e-04\n",
            "  4.37765159e-02 -1.22452350e-02  1.45954769e-02 -2.91848090e-03\n",
            "  2.38882769e-02 -2.34678071e-02  2.84602097e-03 -7.34806713e-03\n",
            "  5.40037341e-02 -5.66386171e-02  7.05892891e-02  1.88276805e-02\n",
            "  1.62610859e-02 -5.40629169e-03 -3.07447684e-04  7.00838258e-03\n",
            "  1.34949537e-03 -9.17628314e-03 -1.10844588e-02 -5.32296207e-03\n",
            " -7.54923443e-04  2.89079105e-03 -8.57571047e-03  4.11385149e-02\n",
            " -3.78877819e-02 -1.83401071e-02  9.71437991e-03  6.50630193e-03\n",
            "  1.93293784e-02 -1.98238203e-03  3.30534065e-03  3.37149799e-02\n",
            "  1.33419940e-02  9.43117961e-03 -2.69732671e-03 -5.08176535e-03\n",
            "  3.70376371e-02 -2.53570557e-04  7.59488577e-03 -4.93834540e-03\n",
            "  2.33767345e-03  7.44023081e-03  3.78978834e-03 -1.77771933e-02\n",
            "  6.11404190e-03 -8.99988879e-03  7.33912783e-03  1.86517499e-02\n",
            " -5.95606901e-02 -7.53997453e-03 -3.07611972e-02  3.00520193e-03\n",
            " -3.34883365e-03  2.07011458e-02  1.65459737e-02 -3.74065060e-03\n",
            " -7.26425136e-03  2.04729363e-02  2.15357495e-03  2.96684793e-05\n",
            "  9.95635404e-04  1.23956269e-02  4.62848693e-03  1.89086213e-03\n",
            " -1.17994286e-03  1.33614201e-04  8.88539013e-03 -1.03297113e-02\n",
            "  9.76061914e-04  1.98893826e-02  7.13791000e-03 -3.17434850e-03\n",
            " -3.40020936e-03 -5.85384620e-03 -1.23109035e-02 -6.82885619e-03\n",
            " -4.09955112e-03 -4.22625011e-03  9.62856319e-03  2.00128229e-03\n",
            "  1.21364249e-02  8.90590530e-03  9.46029183e-03  6.10621013e-02\n",
            "  9.24834050e-03 -7.71196280e-03 -3.98372412e-02  8.85553658e-03\n",
            "  6.48583937e-03 -7.52455031e-04 -2.56915614e-02  5.07327681e-03\n",
            "  1.14016766e-02  5.93130151e-03  6.06280863e-02 -2.83748396e-02\n",
            "  2.45399009e-02  1.71833448e-02 -3.27706570e-03  1.22007029e-03\n",
            " -5.93984616e-04  3.94036956e-02  2.60995142e-02  1.85552966e-02\n",
            " -9.28116124e-03 -1.00152311e-03 -2.35932078e-02  4.49635321e-03\n",
            " -4.29041311e-03  1.41347675e-02  8.53527617e-03 -5.46624931e-03\n",
            "  2.96694357e-02 -1.08684786e-02  3.72866541e-03 -1.40753156e-03\n",
            " -1.82799920e-02  1.45122465e-02 -8.59727879e-05 -3.93139385e-02\n",
            "  2.14295220e-02 -2.73886789e-03 -6.04746155e-02  4.58825845e-03\n",
            "  1.32593559e-02 -8.65891576e-03 -1.19405696e-02  1.37271837e-03\n",
            "  1.89255159e-02 -1.99708715e-02  5.28731337e-03 -1.44394422e-02\n",
            " -1.70910936e-02 -9.26069915e-02 -1.15159657e-02  9.73644387e-03\n",
            " -2.28814711e-03 -2.65740361e-02 -2.87506804e-02 -6.47199387e-03\n",
            "  1.51584006e-03  1.34962443e-02 -9.40527488e-03 -4.74278023e-03\n",
            "  5.79757430e-03  7.94330379e-04 -5.21099800e-03 -9.87994671e-03\n",
            "  2.82332208e-03 -1.57154258e-02 -1.07401554e-02  4.63209208e-03\n",
            "  6.88356580e-03 -2.13219728e-02  1.44514372e-03 -4.63435054e-03\n",
            " -8.92588217e-03  3.48277832e-03 -9.66518093e-03  1.15665924e-02\n",
            "  2.59747449e-02 -1.54298916e-02  4.29376913e-03 -4.03307844e-03\n",
            " -5.30164968e-03 -2.20172629e-02 -3.98761854e-02  5.98979183e-03\n",
            "  2.16306886e-03  2.50818226e-02  4.53020632e-03  6.75566727e-03\n",
            " -1.04224421e-02  2.45245988e-03 -5.42288553e-03  1.48141729e-02\n",
            " -1.16251130e-02 -4.29392047e-02 -5.66042028e-03 -1.06071001e-02\n",
            "  3.31144296e-02  1.04013579e-02 -3.09808762e-03 -2.09965017e-02\n",
            " -8.91531259e-03  7.78910879e-04  3.46390530e-02  5.96992578e-03\n",
            " -1.01639898e-02  5.60610648e-03  3.64322145e-03 -5.15977107e-02\n",
            " -2.75538042e-02  5.54985888e-02  1.20638059e-02 -4.25665304e-02\n",
            " -1.78976415e-03  2.03052144e-02  1.00793717e-02  8.17069411e-03\n",
            "  2.70745112e-03  9.28952824e-03  1.11442385e-03  1.97473797e-03\n",
            " -8.25295784e-03  1.40152322e-02  3.46662215e-04  2.33146194e-02\n",
            "  1.48297474e-02  2.20090784e-02 -1.21725444e-02 -9.68871079e-03\n",
            "  1.12340041e-02  1.04413228e-02  1.55411558e-02 -2.62712128e-02\n",
            " -1.44995013e-02 -3.65514718e-02  3.30560119e-03  4.23980318e-03\n",
            " -2.89560780e-02 -1.21354247e-02 -4.49458743e-03 -1.21117957e-01\n",
            "  1.39987105e-05 -6.29043207e-04 -1.54840350e-02 -4.32165019e-04\n",
            " -1.17087327e-02 -8.29754025e-02  9.56749916e-03  2.35831961e-02\n",
            "  4.08003153e-03  3.22895348e-02 -7.32209627e-03  1.34363081e-02\n",
            "  1.64705496e-02 -8.39830469e-03  5.00845397e-03 -2.27776170e-03\n",
            " -2.78906827e-03  4.88937600e-03 -6.38828566e-03  1.23141741e-03\n",
            "  4.53432947e-02  3.64881183e-04  1.85791235e-02  3.00359272e-04]\n",
            "(300,)\n"
          ]
        }
      ]
    },
    {
      "cell_type": "code",
      "source": [
        "import pandas as pd\n",
        "from sklearn.model_selection import train_test_split\n",
        "from sklearn import svm\n",
        "from sklearn.pipeline import Pipeline\n",
        "from sklearn.metrics import classification_report\n",
        "from sklearn.feature_extraction.text import TfidfVectorizer\n",
        "from sklearn.naive_bayes import MultinomialNB\n",
        "from sklearn.ensemble import RandomForestClassifier\n",
        "from scipy.stats import skew\n",
        "import matplotlib.pyplot as plt\n",
        "import numpy as np"
      ],
      "metadata": {
        "id": "uX5cElIU8FI1"
      },
      "execution_count": null,
      "outputs": []
    },
    {
      "cell_type": "code",
      "source": [
        "df = pd.read_csv('cleaned_train.csv')\n",
        "print(df.shape)\n",
        "df.head()\n"
      ],
      "metadata": {
        "colab": {
          "base_uri": "https://localhost:8080/",
          "height": 223
        },
        "id": "y0JN8uMI5JKY",
        "outputId": "79da4f5d-0846-4711-9aaa-e1c092db9b2a"
      },
      "execution_count": null,
      "outputs": [
        {
          "output_type": "stream",
          "name": "stdout",
          "text": [
            "(6988, 3)\n"
          ]
        },
        {
          "output_type": "execute_result",
          "data": {
            "text/plain": [
              "                                                text   category  stance\n",
              "0  بيل غيتس تلقي لقاح كوفيد19 من غير تصوير ابر و ...  celebrity       1\n",
              "1  وزير صح حد يوم تحديد هل بمؤتمروا صحفي كان ما ع...  info_news       1\n",
              "2  قول رح يكونو اد مسؤولي ب لبنان ما وصل لقاح ؟ ا...  info_news       1\n",
              "3  تركيا . . وزير صح فخر دين قوجة تلقي اول جرع من...  celebrity       1\n",
              "4  وئام وهاب شتم دول خليجي في كل طل اعلامي تسافه ...   personal       0"
            ],
            "text/html": [
              "\n",
              "  <div id=\"df-ff30ae75-9ca5-48a1-a0cb-0b6a1375bf20\">\n",
              "    <div class=\"colab-df-container\">\n",
              "      <div>\n",
              "<style scoped>\n",
              "    .dataframe tbody tr th:only-of-type {\n",
              "        vertical-align: middle;\n",
              "    }\n",
              "\n",
              "    .dataframe tbody tr th {\n",
              "        vertical-align: top;\n",
              "    }\n",
              "\n",
              "    .dataframe thead th {\n",
              "        text-align: right;\n",
              "    }\n",
              "</style>\n",
              "<table border=\"1\" class=\"dataframe\">\n",
              "  <thead>\n",
              "    <tr style=\"text-align: right;\">\n",
              "      <th></th>\n",
              "      <th>text</th>\n",
              "      <th>category</th>\n",
              "      <th>stance</th>\n",
              "    </tr>\n",
              "  </thead>\n",
              "  <tbody>\n",
              "    <tr>\n",
              "      <th>0</th>\n",
              "      <td>بيل غيتس تلقي لقاح كوفيد19 من غير تصوير ابر و ...</td>\n",
              "      <td>celebrity</td>\n",
              "      <td>1</td>\n",
              "    </tr>\n",
              "    <tr>\n",
              "      <th>1</th>\n",
              "      <td>وزير صح حد يوم تحديد هل بمؤتمروا صحفي كان ما ع...</td>\n",
              "      <td>info_news</td>\n",
              "      <td>1</td>\n",
              "    </tr>\n",
              "    <tr>\n",
              "      <th>2</th>\n",
              "      <td>قول رح يكونو اد مسؤولي ب لبنان ما وصل لقاح ؟ ا...</td>\n",
              "      <td>info_news</td>\n",
              "      <td>1</td>\n",
              "    </tr>\n",
              "    <tr>\n",
              "      <th>3</th>\n",
              "      <td>تركيا . . وزير صح فخر دين قوجة تلقي اول جرع من...</td>\n",
              "      <td>celebrity</td>\n",
              "      <td>1</td>\n",
              "    </tr>\n",
              "    <tr>\n",
              "      <th>4</th>\n",
              "      <td>وئام وهاب شتم دول خليجي في كل طل اعلامي تسافه ...</td>\n",
              "      <td>personal</td>\n",
              "      <td>0</td>\n",
              "    </tr>\n",
              "  </tbody>\n",
              "</table>\n",
              "</div>\n",
              "      <button class=\"colab-df-convert\" onclick=\"convertToInteractive('df-ff30ae75-9ca5-48a1-a0cb-0b6a1375bf20')\"\n",
              "              title=\"Convert this dataframe to an interactive table.\"\n",
              "              style=\"display:none;\">\n",
              "        \n",
              "  <svg xmlns=\"http://www.w3.org/2000/svg\" height=\"24px\"viewBox=\"0 0 24 24\"\n",
              "       width=\"24px\">\n",
              "    <path d=\"M0 0h24v24H0V0z\" fill=\"none\"/>\n",
              "    <path d=\"M18.56 5.44l.94 2.06.94-2.06 2.06-.94-2.06-.94-.94-2.06-.94 2.06-2.06.94zm-11 1L8.5 8.5l.94-2.06 2.06-.94-2.06-.94L8.5 2.5l-.94 2.06-2.06.94zm10 10l.94 2.06.94-2.06 2.06-.94-2.06-.94-.94-2.06-.94 2.06-2.06.94z\"/><path d=\"M17.41 7.96l-1.37-1.37c-.4-.4-.92-.59-1.43-.59-.52 0-1.04.2-1.43.59L10.3 9.45l-7.72 7.72c-.78.78-.78 2.05 0 2.83L4 21.41c.39.39.9.59 1.41.59.51 0 1.02-.2 1.41-.59l7.78-7.78 2.81-2.81c.8-.78.8-2.07 0-2.86zM5.41 20L4 18.59l7.72-7.72 1.47 1.35L5.41 20z\"/>\n",
              "  </svg>\n",
              "      </button>\n",
              "      \n",
              "  <style>\n",
              "    .colab-df-container {\n",
              "      display:flex;\n",
              "      flex-wrap:wrap;\n",
              "      gap: 12px;\n",
              "    }\n",
              "\n",
              "    .colab-df-convert {\n",
              "      background-color: #E8F0FE;\n",
              "      border: none;\n",
              "      border-radius: 50%;\n",
              "      cursor: pointer;\n",
              "      display: none;\n",
              "      fill: #1967D2;\n",
              "      height: 32px;\n",
              "      padding: 0 0 0 0;\n",
              "      width: 32px;\n",
              "    }\n",
              "\n",
              "    .colab-df-convert:hover {\n",
              "      background-color: #E2EBFA;\n",
              "      box-shadow: 0px 1px 2px rgba(60, 64, 67, 0.3), 0px 1px 3px 1px rgba(60, 64, 67, 0.15);\n",
              "      fill: #174EA6;\n",
              "    }\n",
              "\n",
              "    [theme=dark] .colab-df-convert {\n",
              "      background-color: #3B4455;\n",
              "      fill: #D2E3FC;\n",
              "    }\n",
              "\n",
              "    [theme=dark] .colab-df-convert:hover {\n",
              "      background-color: #434B5C;\n",
              "      box-shadow: 0px 1px 3px 1px rgba(0, 0, 0, 0.15);\n",
              "      filter: drop-shadow(0px 1px 2px rgba(0, 0, 0, 0.3));\n",
              "      fill: #FFFFFF;\n",
              "    }\n",
              "  </style>\n",
              "\n",
              "      <script>\n",
              "        const buttonEl =\n",
              "          document.querySelector('#df-ff30ae75-9ca5-48a1-a0cb-0b6a1375bf20 button.colab-df-convert');\n",
              "        buttonEl.style.display =\n",
              "          google.colab.kernel.accessAllowed ? 'block' : 'none';\n",
              "\n",
              "        async function convertToInteractive(key) {\n",
              "          const element = document.querySelector('#df-ff30ae75-9ca5-48a1-a0cb-0b6a1375bf20');\n",
              "          const dataTable =\n",
              "            await google.colab.kernel.invokeFunction('convertToInteractive',\n",
              "                                                     [key], {});\n",
              "          if (!dataTable) return;\n",
              "\n",
              "          const docLinkHtml = 'Like what you see? Visit the ' +\n",
              "            '<a target=\"_blank\" href=https://colab.research.google.com/notebooks/data_table.ipynb>data table notebook</a>'\n",
              "            + ' to learn more about interactive tables.';\n",
              "          element.innerHTML = '';\n",
              "          dataTable['output_type'] = 'display_data';\n",
              "          await google.colab.output.renderOutput(dataTable, element);\n",
              "          const docLink = document.createElement('div');\n",
              "          docLink.innerHTML = docLinkHtml;\n",
              "          element.appendChild(docLink);\n",
              "        }\n",
              "      </script>\n",
              "    </div>\n",
              "  </div>\n",
              "  "
            ]
          },
          "metadata": {},
          "execution_count": 5
        }
      ]
    },
    {
      "cell_type": "code",
      "source": [
        "max_length = -1\n",
        "for tweet in df['text']:\n",
        "  tweet_arr = tweet.split(' ')\n",
        "  max_length = max(max_length, len(tweet_arr))\n",
        "\n",
        "print(max_length)"
      ],
      "metadata": {
        "colab": {
          "base_uri": "https://localhost:8080/"
        },
        "id": "OxYcmG0-Mxbq",
        "outputId": "f12ad80e-2bc5-4737-d067-d66159050dc1"
      },
      "execution_count": null,
      "outputs": [
        {
          "output_type": "stream",
          "name": "stdout",
          "text": [
            "137\n"
          ]
        }
      ]
    },
    {
      "cell_type": "code",
      "source": [
        "embedded_text = np.zeros((len(df['text']),137*300))\n",
        "print(embedded_text.shape)\n",
        "for i,tweet in enumerate(df['text']):\n",
        "    sentence_embedding = []\n",
        "    for word in tweet.split(\" \"):\n",
        "      sentence_embedding.extend(ft.get_word_vector(word))\n",
        "    # embedded_text.\n",
        "    embedded_text[i] = ft.get_word_vector(sentence_embedding)\n",
        "\n",
        "# print(embedded_text[0])"
      ],
      "metadata": {
        "id": "QeQZ4nR-8XBe"
      },
      "execution_count": null,
      "outputs": []
    },
    {
      "cell_type": "code",
      "source": [
        "type(df['stance'])"
      ],
      "metadata": {
        "colab": {
          "base_uri": "https://localhost:8080/"
        },
        "id": "F49GUhwS_T6M",
        "outputId": "304f3d54-014d-4b92-e216-1dd8b1b32133"
      },
      "execution_count": null,
      "outputs": [
        {
          "output_type": "execute_result",
          "data": {
            "text/plain": [
              "pandas.core.series.Series"
            ]
          },
          "metadata": {},
          "execution_count": 8
        }
      ]
    },
    {
      "cell_type": "code",
      "source": [
        "x_train, x_test, y_train, y_test = train_test_split(embedded_text, df['stance'], test_size=0.3, random_state=42,stratify=df['stance'])\n",
        "# print(x_train.shape)\n",
        "# print(x_test.shape)\n",
        "print(y_train.value_counts())\n",
        "print(y_test.value_counts())"
      ],
      "metadata": {
        "id": "fDWFQW-n8Qo5"
      },
      "execution_count": null,
      "outputs": []
    },
    {
      "cell_type": "code",
      "source": [
        "# clf = Pipeline([\n",
        "#     ('vectorizer_tfidf', TfidfVectorizer(ngram_range=(1,1), max_df=0.5)),\n",
        "#     ('ٌRandom Forest', RandomForestClassifier(n_estimators=100, random_state=2002))\n",
        "# ])\n",
        "clf = RandomForestClassifier(n_estimators=100, random_state=2002)\n",
        "# clf = svm.SVC(kernel='linear', C=1.0, probability=True)\n",
        "clf.fit(x_train, y_train)\n",
        "y_pred = clf.predict(x_test)\n",
        "print(classification_report(y_test, y_pred))"
      ],
      "metadata": {
        "id": "TVnpIL2s_eNp"
      },
      "execution_count": null,
      "outputs": []
    }
  ]
}